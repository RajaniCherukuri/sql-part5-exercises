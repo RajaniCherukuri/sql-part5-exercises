{
    "metadata": {
        "kernelspec": {
            "name": "SQL",
            "display_name": "SQL",
            "language": "sql"
        },
        "language_info": {
            "name": "sql",
            "version": ""
        }
    },
    "nbformat_minor": 2,
    "nbformat": 4,
    "cells": [
        {
            "cell_type": "markdown",
            "source": [
                "# Exercises: Creating, Updating, and Destroying Objects\n",
                "\n",
                "For the exercises, you will be working with objects and data you create. Before opening this notebook, make sure that you have set up the new connection to the server and that you have located the database and your schema.\n",
                "\n",
                "## Object Creation\n",
                "\n",
                "Before coding, think of three things you want to make. These could be coding projects, new recipes, or planned projects for a woodworking hobby. Brainstorm the appropriate column names and data types as well.\n",
                "\n",
                "Create a table under your schema called `planned_makes`."
            ],
            "metadata": {
                "azdata_cell_guid": "9d51c166-0c19-4f27-a422-2a6cf596bfb2"
            },
            "attachments": {}
        },
        {
            "cell_type": "code",
            "source": [
                "CREATE TABLE rajani.planned_makes(\r\n",
                "     hobby_id INT IDENTITY(101,1) PRIMARY KEY,\r\n",
                "     descripton VARCHAR (255) NOT NULL,\r\n",
                "     types VARCHAR(255) NOT NULL\r\n",
                ")"
            ],
            "metadata": {
                "azdata_cell_guid": "2918a2de-c5fa-4e84-a3a5-d8c9e1db799d",
                "language": "sql",
                "tags": []
            },
            "outputs": [
                {
                    "output_type": "display_data",
                    "data": {
                        "text/html": "Commands completed successfully."
                    },
                    "metadata": {}
                },
                {
                    "output_type": "display_data",
                    "data": {
                        "text/html": "Total execution time: 00:00:00.345"
                    },
                    "metadata": {}
                }
            ],
            "execution_count": 10
        },
        {
            "cell_type": "code",
            "source": [
                "CREATE TABLE rajani.planned_makes_inventory(\r\n",
                "     inventory_id INT IDENTITY(101,1) PRIMARY KEY,\r\n",
                "     inventory VARCHAR (255) NOT NULL,\r\n",
                "     st_date DATE NOT NULL,\r\n",
                "     hobby_id INT\r\n",
                "     CONSTRAINT hobby_id_fk FOREIGN KEY (hobby_id) REFERENCES rajani.planned_makes(hobby_id)\r\n",
                "        ON UPDATE SET NULL\r\n",
                "        ON DELETE SET NULL\r\n",
                "     \r\n",
                ")"
            ],
            "metadata": {
                "azdata_cell_guid": "67b7331a-a977-40ca-9550-13e252d335a8",
                "language": "sql"
            },
            "outputs": [
                {
                    "output_type": "display_data",
                    "data": {
                        "text/html": "Commands completed successfully."
                    },
                    "metadata": {}
                },
                {
                    "output_type": "display_data",
                    "data": {
                        "text/html": "Total execution time: 00:00:00.064"
                    },
                    "metadata": {}
                }
            ],
            "execution_count": 16
        },
        {
            "cell_type": "markdown",
            "source": [
                "Add three rows to your table that are your planned makes."
            ],
            "metadata": {
                "azdata_cell_guid": "83cdf34d-8c4f-4fa1-a14e-77384b19d734"
            }
        },
        {
            "cell_type": "code",
            "source": [
                "-- INSERT INTO rajani.planned_makes(descripton,types)\r\n",
                "-- VALUES ('Painting', 'Art&craft'),\r\n",
                "-- ('Tennis', 'Sports'),\r\n",
                "-- ('Social Service', 'Spiritual');\r\n",
                "SELECT * FROM rajani.planned_makes"
            ],
            "metadata": {
                "azdata_cell_guid": "00d92093-465c-4220-bfef-00948e1b5759",
                "language": "sql",
                "tags": []
            },
            "outputs": [
                {
                    "output_type": "display_data",
                    "data": {
                        "text/html": "(3 rows affected)"
                    },
                    "metadata": {}
                },
                {
                    "output_type": "display_data",
                    "data": {
                        "text/html": "Total execution time: 00:00:00.054"
                    },
                    "metadata": {}
                },
                {
                    "output_type": "execute_result",
                    "execution_count": 18,
                    "data": {
                        "application/vnd.dataresource+json": {
                            "schema": {
                                "fields": [
                                    {
                                        "name": "hobby_id"
                                    },
                                    {
                                        "name": "descripton"
                                    },
                                    {
                                        "name": "types"
                                    }
                                ]
                            },
                            "data": [
                                {
                                    "hobby_id": "101",
                                    "descripton": "Painting",
                                    "types": "Art&craft"
                                },
                                {
                                    "hobby_id": "102",
                                    "descripton": "Tennis",
                                    "types": "Sports"
                                },
                                {
                                    "hobby_id": "103",
                                    "descripton": "Social Service",
                                    "types": "Spiritual"
                                }
                            ]
                        },
                        "text/html": "<table><tr><th>hobby_id</th><th>descripton</th><th>types</th></tr><tr><td>101</td><td>Painting</td><td>Art&amp;craft</td></tr><tr><td>102</td><td>Tennis</td><td>Sports</td></tr><tr><td>103</td><td>Social Service</td><td>Spiritual</td></tr></table>"
                    },
                    "metadata": {}
                }
            ],
            "execution_count": 18
        },
        {
            "cell_type": "code",
            "source": [
                "-- INSERT INTO rajani.planned_makes_inventory (inventory,st_date,hobby_id)\r\n",
                "-- VALUES ('Colors','2023-08-22', '101')\r\n",
                "-- INSERT INTO rajani.planned_makes_inventory (inventory,st_date,hobby_id)\r\n",
                "-- VALUES('Pencil','2023-08-22', '101')\r\n",
                "-- INSERT INTO rajani.planned_makes_inventory (inventory,st_date,hobby_id)\r\n",
                "-- VALUES('Drawing book','2023-08-22', '101')\r\n",
                "-- INSERT INTO rajani.planned_makes_inventory (inventory,st_date,hobby_id)\r\n",
                "-- VALUES('Tennis racket','2023-08-22', '102')\r\n",
                "-- INSERT INTO rajani.planned_makes_inventory (inventory,st_date,hobby_id)\r\n",
                "-- VALUES('Tennis balls','2023-08-22', '102')\r\n",
                "-- INSERT INTO rajani.planned_makes_inventory (inventory,st_date,hobby_id)\r\n",
                "-- VALUES('Soup','2023-08-22', '103')\r\n",
                "-- INSERT INTO rajani.planned_makes_inventory (inventory,st_date,hobby_id)\r\n",
                "-- VALUES('Bread','2023-08-22', '103')\r\n",
                "\r\n",
                "SELECT * FROM rajani.planned_makes_inventory"
            ],
            "metadata": {
                "azdata_cell_guid": "f0200f2a-6af4-4ee8-9ab9-32a40c9df264",
                "language": "sql"
            },
            "outputs": [
                {
                    "output_type": "display_data",
                    "data": {
                        "text/html": "(8 rows affected)"
                    },
                    "metadata": {}
                },
                {
                    "output_type": "display_data",
                    "data": {
                        "text/html": "Total execution time: 00:00:00.058"
                    },
                    "metadata": {}
                },
                {
                    "output_type": "execute_result",
                    "execution_count": 26,
                    "data": {
                        "application/vnd.dataresource+json": {
                            "schema": {
                                "fields": [
                                    {
                                        "name": "inventory_id"
                                    },
                                    {
                                        "name": "inventory"
                                    },
                                    {
                                        "name": "st_date"
                                    },
                                    {
                                        "name": "hobby_id"
                                    }
                                ]
                            },
                            "data": [
                                {
                                    "inventory_id": "101",
                                    "inventory": "Colors",
                                    "st_date": "2023-08-22",
                                    "hobby_id": "101"
                                },
                                {
                                    "inventory_id": "102",
                                    "inventory": "Pencil",
                                    "st_date": "2023-08-22",
                                    "hobby_id": "101"
                                },
                                {
                                    "inventory_id": "103",
                                    "inventory": "Pencil",
                                    "st_date": "2023-08-22",
                                    "hobby_id": "101"
                                },
                                {
                                    "inventory_id": "104",
                                    "inventory": "Drawing book",
                                    "st_date": "2023-08-22",
                                    "hobby_id": "101"
                                },
                                {
                                    "inventory_id": "105",
                                    "inventory": "Tennis racket",
                                    "st_date": "2023-08-22",
                                    "hobby_id": "102"
                                },
                                {
                                    "inventory_id": "106",
                                    "inventory": "Tennis balls",
                                    "st_date": "2023-08-22",
                                    "hobby_id": "102"
                                },
                                {
                                    "inventory_id": "107",
                                    "inventory": "Soup",
                                    "st_date": "2023-08-22",
                                    "hobby_id": "103"
                                },
                                {
                                    "inventory_id": "108",
                                    "inventory": "Bread",
                                    "st_date": "2023-08-22",
                                    "hobby_id": "103"
                                }
                            ]
                        },
                        "text/html": "<table><tr><th>inventory_id</th><th>inventory</th><th>st_date</th><th>hobby_id</th></tr><tr><td>101</td><td>Colors</td><td>2023-08-22</td><td>101</td></tr><tr><td>102</td><td>Pencil</td><td>2023-08-22</td><td>101</td></tr><tr><td>103</td><td>Pencil</td><td>2023-08-22</td><td>101</td></tr><tr><td>104</td><td>Drawing book</td><td>2023-08-22</td><td>101</td></tr><tr><td>105</td><td>Tennis racket</td><td>2023-08-22</td><td>102</td></tr><tr><td>106</td><td>Tennis balls</td><td>2023-08-22</td><td>102</td></tr><tr><td>107</td><td>Soup</td><td>2023-08-22</td><td>103</td></tr><tr><td>108</td><td>Bread</td><td>2023-08-22</td><td>103</td></tr></table>"
                    },
                    "metadata": {}
                }
            ],
            "execution_count": 26
        },
        {
            "cell_type": "markdown",
            "source": [
                "## Update a Row\n",
                "\n",
                "Change different values in one of your three rows."
            ],
            "metadata": {
                "azdata_cell_guid": "4a39b8d4-ae97-4e09-8336-c5fc6a00d76c"
            },
            "attachments": {}
        },
        {
            "cell_type": "code",
            "source": [
                "UPDATE rajani.planned_makes_inventory\n",
                "SET \n",
                "    inventory = 'Paint'\n",
                "WHERE\n",
                "    inventory_id = 102;\n",
                "\n",
                "    SELECT * FROM rajani.planned_makes_inventory"
            ],
            "metadata": {
                "azdata_cell_guid": "7409c695-9581-4ad8-b03a-574d2c4c87cb",
                "language": "sql"
            },
            "outputs": [
                {
                    "output_type": "display_data",
                    "data": {
                        "text/html": "(1 row affected)"
                    },
                    "metadata": {}
                },
                {
                    "output_type": "display_data",
                    "data": {
                        "text/html": "(8 rows affected)"
                    },
                    "metadata": {}
                },
                {
                    "output_type": "display_data",
                    "data": {
                        "text/html": "Total execution time: 00:00:00.060"
                    },
                    "metadata": {}
                },
                {
                    "output_type": "execute_result",
                    "execution_count": 29,
                    "data": {
                        "application/vnd.dataresource+json": {
                            "schema": {
                                "fields": [
                                    {
                                        "name": "inventory_id"
                                    },
                                    {
                                        "name": "inventory"
                                    },
                                    {
                                        "name": "st_date"
                                    },
                                    {
                                        "name": "hobby_id"
                                    }
                                ]
                            },
                            "data": [
                                {
                                    "inventory_id": "101",
                                    "inventory": "Colors",
                                    "st_date": "2023-08-22",
                                    "hobby_id": "101"
                                },
                                {
                                    "inventory_id": "102",
                                    "inventory": "Paint",
                                    "st_date": "2023-08-22",
                                    "hobby_id": "101"
                                },
                                {
                                    "inventory_id": "103",
                                    "inventory": "Pencil",
                                    "st_date": "2023-08-22",
                                    "hobby_id": "101"
                                },
                                {
                                    "inventory_id": "104",
                                    "inventory": "Drawing book",
                                    "st_date": "2023-08-22",
                                    "hobby_id": "101"
                                },
                                {
                                    "inventory_id": "105",
                                    "inventory": "Tennis racket",
                                    "st_date": "2023-08-22",
                                    "hobby_id": "102"
                                },
                                {
                                    "inventory_id": "106",
                                    "inventory": "Tennis balls",
                                    "st_date": "2023-08-22",
                                    "hobby_id": "102"
                                },
                                {
                                    "inventory_id": "107",
                                    "inventory": "Soup",
                                    "st_date": "2023-08-22",
                                    "hobby_id": "103"
                                },
                                {
                                    "inventory_id": "108",
                                    "inventory": "Bread",
                                    "st_date": "2023-08-22",
                                    "hobby_id": "103"
                                }
                            ]
                        },
                        "text/html": "<table><tr><th>inventory_id</th><th>inventory</th><th>st_date</th><th>hobby_id</th></tr><tr><td>101</td><td>Colors</td><td>2023-08-22</td><td>101</td></tr><tr><td>102</td><td>Paint</td><td>2023-08-22</td><td>101</td></tr><tr><td>103</td><td>Pencil</td><td>2023-08-22</td><td>101</td></tr><tr><td>104</td><td>Drawing book</td><td>2023-08-22</td><td>101</td></tr><tr><td>105</td><td>Tennis racket</td><td>2023-08-22</td><td>102</td></tr><tr><td>106</td><td>Tennis balls</td><td>2023-08-22</td><td>102</td></tr><tr><td>107</td><td>Soup</td><td>2023-08-22</td><td>103</td></tr><tr><td>108</td><td>Bread</td><td>2023-08-22</td><td>103</td></tr></table>"
                    },
                    "metadata": {}
                }
            ],
            "execution_count": 29
        },
        {
            "cell_type": "markdown",
            "source": [
                "## Delete a Row\n",
                "\n",
                "Delete one of the rows from your table."
            ],
            "metadata": {
                "azdata_cell_guid": "95e91a6e-9038-42d9-9401-5738842aba17"
            }
        },
        {
            "cell_type": "code",
            "source": [
                "-- DELETE  rajani.planned_makes_inventory \n",
                "-- WHERE inventory_id = '103'\n",
                "\n",
                " SELECT * FROM rajani.planned_makes_inventory"
            ],
            "metadata": {
                "azdata_cell_guid": "749c748f-19b5-4c69-9004-b6b20216616a",
                "language": "sql"
            },
            "outputs": [
                {
                    "output_type": "display_data",
                    "data": {
                        "text/html": "(7 rows affected)"
                    },
                    "metadata": {}
                },
                {
                    "output_type": "display_data",
                    "data": {
                        "text/html": "Total execution time: 00:00:00.088"
                    },
                    "metadata": {}
                },
                {
                    "output_type": "execute_result",
                    "execution_count": 31,
                    "data": {
                        "application/vnd.dataresource+json": {
                            "schema": {
                                "fields": [
                                    {
                                        "name": "inventory_id"
                                    },
                                    {
                                        "name": "inventory"
                                    },
                                    {
                                        "name": "st_date"
                                    },
                                    {
                                        "name": "hobby_id"
                                    }
                                ]
                            },
                            "data": [
                                {
                                    "inventory_id": "101",
                                    "inventory": "Colors",
                                    "st_date": "2023-08-22",
                                    "hobby_id": "101"
                                },
                                {
                                    "inventory_id": "102",
                                    "inventory": "Paint",
                                    "st_date": "2023-08-22",
                                    "hobby_id": "101"
                                },
                                {
                                    "inventory_id": "104",
                                    "inventory": "Drawing book",
                                    "st_date": "2023-08-22",
                                    "hobby_id": "101"
                                },
                                {
                                    "inventory_id": "105",
                                    "inventory": "Tennis racket",
                                    "st_date": "2023-08-22",
                                    "hobby_id": "102"
                                },
                                {
                                    "inventory_id": "106",
                                    "inventory": "Tennis balls",
                                    "st_date": "2023-08-22",
                                    "hobby_id": "102"
                                },
                                {
                                    "inventory_id": "107",
                                    "inventory": "Soup",
                                    "st_date": "2023-08-22",
                                    "hobby_id": "103"
                                },
                                {
                                    "inventory_id": "108",
                                    "inventory": "Bread",
                                    "st_date": "2023-08-22",
                                    "hobby_id": "103"
                                }
                            ]
                        },
                        "text/html": "<table><tr><th>inventory_id</th><th>inventory</th><th>st_date</th><th>hobby_id</th></tr><tr><td>101</td><td>Colors</td><td>2023-08-22</td><td>101</td></tr><tr><td>102</td><td>Paint</td><td>2023-08-22</td><td>101</td></tr><tr><td>104</td><td>Drawing book</td><td>2023-08-22</td><td>101</td></tr><tr><td>105</td><td>Tennis racket</td><td>2023-08-22</td><td>102</td></tr><tr><td>106</td><td>Tennis balls</td><td>2023-08-22</td><td>102</td></tr><tr><td>107</td><td>Soup</td><td>2023-08-22</td><td>103</td></tr><tr><td>108</td><td>Bread</td><td>2023-08-22</td><td>103</td></tr></table>"
                    },
                    "metadata": {}
                }
            ],
            "execution_count": 31
        },
        {
            "cell_type": "markdown",
            "source": [
                "## Drop the Table\n",
                "\n",
                "While this has been fun, it is time to drop the table!"
            ],
            "metadata": {
                "azdata_cell_guid": "2239cb09-137b-4579-905b-1aa020793181"
            },
            "attachments": {}
        },
        {
            "cell_type": "code",
            "source": [
                "DROP TABLE rajani.planned_makes_inventory \r\n",
                "\r\n",
                "--  SELECT * FROM rajani.planned_makes_inventory"
            ],
            "metadata": {
                "azdata_cell_guid": "b3c7f6ea-ee26-46b3-9c2a-2f7a82c39699",
                "language": "sql"
            },
            "outputs": [
                {
                    "output_type": "error",
                    "ename": "",
                    "evalue": "Msg 3701, Level 11, State 5, Line 1\r\nCannot drop the table 'rajani.planned_makes_inventory', because it does not exist or you do not have permission.",
                    "traceback": []
                },
                {
                    "output_type": "display_data",
                    "data": {
                        "text/html": "Total execution time: 00:00:00.094"
                    },
                    "metadata": {}
                }
            ],
            "execution_count": 33
        },
        {
            "cell_type": "code",
            "source": [
                ""
            ],
            "metadata": {
                "azdata_cell_guid": "c032b397-c58c-4f54-a647-31a76c0b7062",
                "language": "sql"
            },
            "outputs": [],
            "execution_count": null
        }
    ]
}